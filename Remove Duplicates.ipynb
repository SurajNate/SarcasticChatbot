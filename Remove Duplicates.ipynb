{
 "cells": [
  {
   "cell_type": "code",
   "execution_count": 3,
   "id": "e429c1ef",
   "metadata": {},
   "outputs": [
    {
     "name": "stdout",
     "output_type": "stream",
     "text": [
      "Requirement already satisfied: pandas in c:\\users\\suraj nate\\appdata\\local\\programs\\python\\python311\\lib\\site-packages (2.2.3)\n",
      "Requirement already satisfied: fuzzywuzzy in c:\\users\\suraj nate\\appdata\\local\\programs\\python\\python311\\lib\\site-packages (0.18.0)\n",
      "Requirement already satisfied: python-Levenshtein in c:\\users\\suraj nate\\appdata\\local\\programs\\python\\python311\\lib\\site-packages (0.27.1)\n",
      "Requirement already satisfied: numpy>=1.23.2 in c:\\users\\suraj nate\\appdata\\local\\programs\\python\\python311\\lib\\site-packages (from pandas) (1.26.4)\n",
      "Requirement already satisfied: python-dateutil>=2.8.2 in c:\\users\\suraj nate\\appdata\\local\\programs\\python\\python311\\lib\\site-packages (from pandas) (2.8.2)\n",
      "Requirement already satisfied: pytz>=2020.1 in c:\\users\\suraj nate\\appdata\\local\\programs\\python\\python311\\lib\\site-packages (from pandas) (2023.3)\n",
      "Requirement already satisfied: tzdata>=2022.7 in c:\\users\\suraj nate\\appdata\\local\\programs\\python\\python311\\lib\\site-packages (from pandas) (2023.3)\n",
      "Requirement already satisfied: Levenshtein==0.27.1 in c:\\users\\suraj nate\\appdata\\local\\programs\\python\\python311\\lib\\site-packages (from python-Levenshtein) (0.27.1)\n",
      "Requirement already satisfied: rapidfuzz<4.0.0,>=3.9.0 in c:\\users\\suraj nate\\appdata\\local\\programs\\python\\python311\\lib\\site-packages (from Levenshtein==0.27.1->python-Levenshtein) (3.12.2)\n",
      "Requirement already satisfied: six>=1.5 in c:\\users\\suraj nate\\appdata\\local\\programs\\python\\python311\\lib\\site-packages (from python-dateutil>=2.8.2->pandas) (1.16.0)\n",
      "Note: you may need to restart the kernel to use updated packages.\n"
     ]
    },
    {
     "name": "stderr",
     "output_type": "stream",
     "text": [
      "\n",
      "[notice] A new release of pip is available: 24.3.1 -> 25.0.1\n",
      "[notice] To update, run: python.exe -m pip install --upgrade pip\n"
     ]
    }
   ],
   "source": [
    "pip install pandas fuzzywuzzy python-Levenshtein"
   ]
  },
  {
   "cell_type": "code",
   "execution_count": 4,
   "id": "d7026c28",
   "metadata": {},
   "outputs": [
    {
     "name": "stdout",
     "output_type": "stream",
     "text": [
      "Cleaning complete! Cleaned dataset saved as 'cleaned_bollywood_dialogues.csv'.\n"
     ]
    }
   ],
   "source": [
    "import pandas as pd\n",
    "from fuzzywuzzy import fuzz\n",
    "\n",
    "# Load your dataset\n",
    "df = pd.read_csv(\"bollywood_dialogues.csv\")\n",
    "\n",
    "# Function to check similarity between two strings\n",
    "def is_similar(str1, str2, threshold=90):\n",
    "    \"\"\"\n",
    "    Check if two strings are similar based on a threshold.\n",
    "    threshold: 90 means 90% similarity (adjust as needed).\n",
    "    \"\"\"\n",
    "    return fuzz.ratio(str1, str2) >= threshold\n",
    "\n",
    "# Function to remove similar rows\n",
    "def remove_similar_rows(df, column, threshold=90):\n",
    "    \"\"\"\n",
    "    Remove rows with similar values in a specific column.\n",
    "    \"\"\"\n",
    "    rows_to_drop = set()  # Store indices of rows to drop\n",
    "    for i in range(len(df)):\n",
    "        for j in range(i + 1, len(df)):\n",
    "            if is_similar(df.loc[i, column], df.loc[j, column], threshold):\n",
    "                rows_to_drop.add(j)  # Mark the later row for removal\n",
    "    return df.drop(rows_to_drop).reset_index(drop=True)\n",
    "\n",
    "# Specify the column to check for similarity (e.g., 'Dialogue')\n",
    "column_to_check = \"Dialogue\"\n",
    "\n",
    "# Remove similar rows based on the specified column\n",
    "cleaned_df = remove_similar_rows(df, column_to_check, threshold=90)\n",
    "\n",
    "# Save the cleaned dataset to a new CSV file\n",
    "cleaned_df.to_csv(\"cleaned_bollywood_dialogues.csv\", index=False)\n",
    "\n",
    "print(\"Cleaning complete! Cleaned dataset saved as 'cleaned_bollywood_dialogues.csv'.\")"
   ]
  },
  {
   "cell_type": "code",
   "execution_count": null,
   "id": "3696b164",
   "metadata": {},
   "outputs": [],
   "source": []
  }
 ],
 "metadata": {
  "kernelspec": {
   "display_name": "Python 3 (ipykernel)",
   "language": "python",
   "name": "python3"
  },
  "language_info": {
   "codemirror_mode": {
    "name": "ipython",
    "version": 3
   },
   "file_extension": ".py",
   "mimetype": "text/x-python",
   "name": "python",
   "nbconvert_exporter": "python",
   "pygments_lexer": "ipython3",
   "version": "3.11.4"
  }
 },
 "nbformat": 4,
 "nbformat_minor": 5
}
